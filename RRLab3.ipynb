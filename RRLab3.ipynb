{
  "cells": [
    {
      "cell_type": "markdown",
      "metadata": {},
      "source": [
        "# Lab 3 - Decision Theory in Machine Learning\n",
        "\n",
        "Welcome to this week's lab on Decision Theory! This week, we are going to explore the basics of making decisions using simple and intuitive examples. Ads we have not yet started discussing neural networks, there is no need for deep knowledge in machine learning or neural networks here. We are focusing on the core principles that underlie decision-making in computational systems.\n",
        "\n",
        "## Objectives\n",
        "\n",
        "1. Understand the fundamentals of Decision Theory.\n",
        "2. Apply Decision Theory to solve simple problems.\n",
        "3. Develop the skills to implement basic decision-making systems."
      ]
    },
    {
      "cell_type": "markdown",
      "metadata": {},
      "source": [
        "## Part 1: Choosing a Vacation Destination\n",
        "\n",
        "In this example, we will decide on a vacation destination based on various factors like cost, distance, and activities."
      ]
    },
    {
      "cell_type": "markdown",
      "metadata": {},
      "source": [
        "### Step 1: Define the Problem\n",
        "\n",
        "Let's define the problem:\n",
        "- We have 3 vacation destinations: Beach, Mountain, and City.\n",
        "- Each destination is evaluated based on three criteria: cost (low, medium, high), distance (near, far), and activities (few, many)."
      ]
    },
    {
      "cell_type": "markdown",
      "metadata": {},
      "source": [
        "### Step 2: Create the Decision Matrix\n",
        "\n",
        "One approach to tackle such problems is to create a Decision Matrix! A Dcision Matrix for this problem can be created as below:"
      ]
    },
    {
      "cell_type": "code",
      "execution_count": 9,
      "metadata": {
        "trusted": true
      },
      "outputs": [],
      "source": [
        "import pandas as pd\n",
        "\n",
        "# Define the decision matrix\n",
        "data = {\n",
        "    'Cost': ['Low', 'High', 'Medium'],\n",
        "    'Distance': ['Near', 'Far', 'Near'],\n",
        "    'Activities': ['Many', 'Few', 'Many']\n",
        "}\n",
        "\n",
        "destinations = pd.DataFrame(data, index=['Beach', 'Mountain', 'City'])"
      ]
    },
    {
      "cell_type": "markdown",
      "metadata": {},
      "source": [
        "### Step 3: Apply Decision Rules\n",
        "\n",
        "We can create a simple scoring system for each criterion (e.g., Low Cost = 3 points, High Cost = 1 point). Then we can calculate the total score for each destination."
      ]
    },
    {
      "cell_type": "code",
      "execution_count": 10,
      "metadata": {
        "trusted": true
      },
      "outputs": [],
      "source": [
        "# Decision rules as functions\n",
        "def cost_score(cost):\n",
        "    if cost == 'Low':\n",
        "        return 3\n",
        "    elif cost == 'Medium':\n",
        "        return 2\n",
        "    else:\n",
        "        return 1\n",
        "\n",
        "def distance_score(distance):\n",
        "    return 3 if distance == 'Near' else 1\n",
        "\n",
        "def activities_score(activities):\n",
        "    return 3 if activities == 'Many' else 1"
      ]
    },
    {
      "cell_type": "markdown",
      "metadata": {},
      "source": [
        "### Step 4: Make a Decision\n",
        "\n",
        "Now, we are ready to make a decision on which destination to choose based on the highest score."
      ]
    },
    {
      "cell_type": "code",
      "execution_count": 11,
      "metadata": {
        "trusted": true
      },
      "outputs": [
        {
          "name": "stdout",
          "output_type": "stream",
          "text": [
            "            Cost Distance Activities  Total Score\n",
            "Beach        Low     Near       Many            9\n",
            "Mountain    High      Far        Few            3\n",
            "City      Medium     Near       Many            8\n"
          ]
        }
      ],
      "source": [
        "# Calculate scores\n",
        "destinations['Total Score'] = destinations.apply(lambda x: cost_score(x['Cost']) + distance_score(x['Distance']) + activities_score(x['Activities']), axis=1)\n",
        "\n",
        "# Display the result\n",
        "print(destinations)\n"
      ]
    },
    {
      "cell_type": "markdown",
      "metadata": {},
      "source": [
        "## Part 2: Choosing a Smartphone\n",
        "\n",
        "Your task is to choose a smartphone based on different criteria like price, battery life, and camera quality.\n",
        "\n",
        "Tasks\n",
        "Define your criteria for selecting a smartphone.\n",
        "Set up a decision matrix for different smartphone options.\n",
        "Apply decision rules to score each smartphone.\n",
        "Make a decision based on the highest score.\n",
        "Guidelines\n",
        "Think about the factors that are most important to you in a smartphone.\n",
        "Be creative in defining your scoring system."
      ]
    },
    {
      "cell_type": "markdown",
      "metadata": {},
      "source": [
        "### Task 1: Criteria\n",
        "Define your criteria for selecting a smartphone."
      ]
    },
    {
      "cell_type": "code",
      "execution_count": 12,
      "metadata": {},
      "outputs": [
        {
          "data": {
            "text/plain": [
              "'\\nWe have 3 phone brands: Huwawei, Apple, Samsung.\\nEach phone is evaluated based on three criteria: price (low, medium, high), battery life (short, long), and camera quality (good, bad).\\n'"
            ]
          },
          "execution_count": 12,
          "metadata": {},
          "output_type": "execute_result"
        }
      ],
      "source": [
        "# Your code and/or explanation goes here\n",
        "'''\n",
        "We have 3 phone brands: Huwawei, Apple, Samsung.\n",
        "Each phone is evaluated based on three criteria: price (low, medium, high), battery life (short, long), and camera quality (good, bad).\n",
        "'''"
      ]
    },
    {
      "cell_type": "markdown",
      "metadata": {},
      "source": [
        "### Task 2: Decision Matrix\n",
        "Set up a decision matrix for different smartphone options."
      ]
    },
    {
      "cell_type": "code",
      "execution_count": 13,
      "metadata": {
        "trusted": true
      },
      "outputs": [],
      "source": [
        "# Your code goes here\n",
        "phone = {\n",
        "    'Price': ['Low', 'High', 'Medium'],\n",
        "    'Battery': ['Short', 'Long', 'Long'],\n",
        "    'Camera': ['Bad', 'Good', 'Good']\n",
        "}\n",
        "\n",
        "phones = pd.DataFrame(phone, index=['Huwawei', 'Apple', 'Samsung'])"
      ]
    },
    {
      "cell_type": "markdown",
      "metadata": {},
      "source": [
        "### Task 3: Apply Decision Rules\n",
        "Apply decision rules to score each smartphone."
      ]
    },
    {
      "cell_type": "code",
      "execution_count": 14,
      "metadata": {
        "trusted": true
      },
      "outputs": [],
      "source": [
        "# Your code goes here\n",
        "def price_score(price):\n",
        "    if price == 'Low':\n",
        "        return 3\n",
        "    elif price == 'Medium':\n",
        "        return 2\n",
        "    else:\n",
        "        return 1\n",
        "\n",
        "def battery_score(battery):\n",
        "    return 3 if battery == 'Long' else 1\n",
        "\n",
        "def camera_score(camera):\n",
        "    return 3 if camera == 'Good' else 1"
      ]
    },
    {
      "cell_type": "markdown",
      "metadata": {},
      "source": [
        "### Task 4: Final Decision\n",
        "Make a decision based on the highest score."
      ]
    },
    {
      "cell_type": "code",
      "execution_count": 15,
      "metadata": {
        "trusted": true
      },
      "outputs": [
        {
          "name": "stdout",
          "output_type": "stream",
          "text": [
            "          Price Battery Camera  Total Score\n",
            "Huwawei     Low   Short    Bad            5\n",
            "Apple      High    Long   Good            3\n",
            "Samsung  Medium    Long   Good            4\n"
          ]
        }
      ],
      "source": [
        "# Your code goes here\n",
        "phones['Total Score'] = phones.apply(lambda x: cost_score(x['Price']) + distance_score(x['Battery']) + activities_score(x['Camera']), axis=1)\n",
        "print(phones)"
      ]
    },
    {
      "cell_type": "markdown",
      "metadata": {},
      "source": [
        "### Task 5: Evaluation and Reflection\n",
        "Write your perspctive about Decision Theory. Could the given problem be solved using a different methodology? Explain your answer."
      ]
    },
    {
      "cell_type": "code",
      "execution_count": 16,
      "metadata": {
        "trusted": true
      },
      "outputs": [
        {
          "data": {
            "text/plain": [
              "'\\nMy perspective on decision theory is that it is very helpful when a decision should be made in \\nuncertainty. Based on data, we analyze every option and try to predict the best desirable outcome.\\nFor this specific problem, different methodologies could be taken to solve it. Maybe coafficients \\ncould be assigned to each criteria depending on how important they are for the decision. This \\ncould change the score results and therefore lead to a completely different outcome. \\n'"
            ]
          },
          "execution_count": 16,
          "metadata": {},
          "output_type": "execute_result"
        }
      ],
      "source": [
        "'''\n",
        "My perspective on decision theory is that it is very helpful when a decision should be made in \n",
        "uncertainty. Based on data, we analyze every option and try to predict the best desirable outcome.\n",
        "For this specific problem, different methodologies could be taken to solve it. Maybe coafficients \n",
        "could be assigned to each criteria depending on how important they are for the decision. This \n",
        "could change the score results and therefore lead to a completely different outcome. \n",
        "'''"
      ]
    },
    {
      "cell_type": "markdown",
      "metadata": {},
      "source": [
        "## Submission\n",
        "Submit a link to your completed Jupyter Notebook file hosted on your private GitHub repository through the submission link in Blackboard."
      ]
    }
  ],
  "metadata": {
    "kernelspec": {
      "display_name": "base",
      "language": "python",
      "name": "python3"
    },
    "language_info": {
      "codemirror_mode": {
        "name": "ipython",
        "version": 3
      },
      "file_extension": ".py",
      "mimetype": "text/x-python",
      "name": "python",
      "nbconvert_exporter": "python",
      "pygments_lexer": "ipython3",
      "version": "3.9.18"
    }
  },
  "nbformat": 4,
  "nbformat_minor": 4
}
