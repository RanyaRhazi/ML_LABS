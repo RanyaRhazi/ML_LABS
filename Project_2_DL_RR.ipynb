{
  "cells": [
    {
      "cell_type": "markdown",
      "metadata": {
        "id": "MKjrQpcNl9FW"
      },
      "source": [
        "# Project 2: Implementing a Simple Convolutional Neural Network (CNN)\n",
        "\n",
        "## Introduction\n",
        "\n",
        "In this project, you will design, implement, and evaluate a simple Convolutional Neural Network (CNN) from scratch. This will involve building the entire pipeline, from data preprocessing to model training and evaluation.\n",
        "\n",
        "## Objectives\n",
        "\n",
        "1. Set up TensorFlow or PyTorch environments. You are free to choose your preferred DL platform.\n",
        "2. Use GPU for training.\n",
        "3. Create a data loader and implement data preprocessing where needed.\n",
        "4. Design a Convolutional Neural Network.\n",
        "5. Train and evaluate your model. Make sure to clearly show loss and accuracy values. Include visualizations too.\n",
        "6. Answer assessment questions.\n",
        "\n",
        "## Dataset\n",
        "\n",
        "You are free to choose any dataset for this project! Kaggle would be a good source to look for datasets. Below are some examples:\n",
        "- CIFAR-10: A dataset of 60,000 32x32 color images in 10 classes with 6,000 images per class.\n",
        "- MNIST: A dataset of 70,000 28x28 grayscale images of handwritten digits (0-9).\n",
        "- Fashion-MNIST: A dataset of 70,000 28x28 grayscale images of 10 different clothing caregories.\n"
      ]
    },
    {
      "cell_type": "code",
      "source": [
        "from tensorflow.keras.datasets import cifar10\n",
        "\n",
        "(x_train, y_train), (x_test, y_test) = cifar10.load_data()\n",
        "\n",
        "x_train, x_test = x_train / 255.0, x_test / 255.0\n"
      ],
      "metadata": {
        "colab": {
          "base_uri": "https://localhost:8080/"
        },
        "id": "cxPWVxdO9y-G",
        "outputId": "8c4a9ecf-a723-4681-fb84-5c82bb9faee3"
      },
      "execution_count": 25,
      "outputs": [
        {
          "output_type": "stream",
          "name": "stdout",
          "text": [
            "Downloading data from https://www.cs.toronto.edu/~kriz/cifar-10-python.tar.gz\n",
            "170498071/170498071 [==============================] - 3s 0us/step\n"
          ]
        }
      ]
    },
    {
      "cell_type": "code",
      "source": [
        "from tensorflow.keras import layers, models\n",
        "\n",
        "model = models.Sequential([\n",
        "    layers.Conv2D(32, (3, 3), activation='relu', input_shape=(32, 32, 3)),\n",
        "    layers.MaxPooling2D((2, 2)),\n",
        "    layers.Conv2D(64, (3, 3), activation='relu'),\n",
        "    layers.MaxPooling2D((2, 2)),\n",
        "    layers.Conv2D(64, (3, 3), activation='relu'),\n",
        "    layers.Flatten(),\n",
        "    layers.Dense(64, activation='relu'),\n",
        "    layers.Dense(10)\n",
        "])\n",
        "\n",
        "model.summary()\n"
      ],
      "metadata": {
        "colab": {
          "base_uri": "https://localhost:8080/"
        },
        "id": "G06X75jx9_LE",
        "outputId": "0f90468f-b60f-4f82-cf1e-e93e0300881d"
      },
      "execution_count": 26,
      "outputs": [
        {
          "output_type": "stream",
          "name": "stdout",
          "text": [
            "Model: \"sequential\"\n",
            "_________________________________________________________________\n",
            " Layer (type)                Output Shape              Param #   \n",
            "=================================================================\n",
            " conv2d (Conv2D)             (None, 30, 30, 32)        896       \n",
            "                                                                 \n",
            " max_pooling2d (MaxPooling2  (None, 15, 15, 32)        0         \n",
            " D)                                                              \n",
            "                                                                 \n",
            " conv2d_1 (Conv2D)           (None, 13, 13, 64)        18496     \n",
            "                                                                 \n",
            " max_pooling2d_1 (MaxPoolin  (None, 6, 6, 64)          0         \n",
            " g2D)                                                            \n",
            "                                                                 \n",
            " conv2d_2 (Conv2D)           (None, 4, 4, 64)          36928     \n",
            "                                                                 \n",
            " flatten (Flatten)           (None, 1024)              0         \n",
            "                                                                 \n",
            " dense (Dense)               (None, 64)                65600     \n",
            "                                                                 \n",
            " dense_1 (Dense)             (None, 10)                650       \n",
            "                                                                 \n",
            "=================================================================\n",
            "Total params: 122570 (478.79 KB)\n",
            "Trainable params: 122570 (478.79 KB)\n",
            "Non-trainable params: 0 (0.00 Byte)\n",
            "_________________________________________________________________\n"
          ]
        }
      ]
    },
    {
      "cell_type": "code",
      "source": [
        "model.compile(optimizer='adam',\n",
        "              loss=tf.keras.losses.SparseCategoricalCrossentropy(from_logits=True),\n",
        "              metrics=['accuracy'])\n",
        "\n",
        "history = model.fit(x_train, y_train, epochs=10,\n",
        "                    validation_data=(x_test, y_test))\n"
      ],
      "metadata": {
        "colab": {
          "base_uri": "https://localhost:8080/"
        },
        "id": "GfRsySJj-VY9",
        "outputId": "1a1c51ba-68bf-41f6-a04c-4fcc7810893f"
      },
      "execution_count": 27,
      "outputs": [
        {
          "output_type": "stream",
          "name": "stdout",
          "text": [
            "Epoch 1/10\n",
            "1563/1563 [==============================] - 12s 5ms/step - loss: 1.5085 - accuracy: 0.4532 - val_loss: 1.2381 - val_accuracy: 0.5567\n",
            "Epoch 2/10\n",
            "1563/1563 [==============================] - 8s 5ms/step - loss: 1.1585 - accuracy: 0.5892 - val_loss: 1.1124 - val_accuracy: 0.6047\n",
            "Epoch 3/10\n",
            "1563/1563 [==============================] - 7s 4ms/step - loss: 1.0036 - accuracy: 0.6481 - val_loss: 0.9697 - val_accuracy: 0.6600\n",
            "Epoch 4/10\n",
            "1563/1563 [==============================] - 8s 5ms/step - loss: 0.9097 - accuracy: 0.6799 - val_loss: 0.9246 - val_accuracy: 0.6812\n",
            "Epoch 5/10\n",
            "1563/1563 [==============================] - 7s 4ms/step - loss: 0.8358 - accuracy: 0.7054 - val_loss: 0.9266 - val_accuracy: 0.6785\n",
            "Epoch 6/10\n",
            "1563/1563 [==============================] - 7s 5ms/step - loss: 0.7752 - accuracy: 0.7275 - val_loss: 0.9474 - val_accuracy: 0.6788\n",
            "Epoch 7/10\n",
            "1563/1563 [==============================] - 7s 4ms/step - loss: 0.7270 - accuracy: 0.7443 - val_loss: 0.9478 - val_accuracy: 0.6782\n",
            "Epoch 8/10\n",
            "1563/1563 [==============================] - 8s 5ms/step - loss: 0.6825 - accuracy: 0.7594 - val_loss: 0.8625 - val_accuracy: 0.7031\n",
            "Epoch 9/10\n",
            "1563/1563 [==============================] - 7s 5ms/step - loss: 0.6425 - accuracy: 0.7747 - val_loss: 0.9078 - val_accuracy: 0.6977\n",
            "Epoch 10/10\n",
            "1563/1563 [==============================] - 7s 4ms/step - loss: 0.5985 - accuracy: 0.7903 - val_loss: 0.8897 - val_accuracy: 0.7099\n"
          ]
        }
      ]
    },
    {
      "cell_type": "code",
      "source": [
        "import matplotlib.pyplot as plt\n",
        "\n",
        "plt.plot(history.history['accuracy'], label='accuracy')\n",
        "plt.plot(history.history['val_accuracy'], label='validation accuracy')\n",
        "plt.xlabel('Epoch')\n",
        "plt.ylabel('Accuracy')\n",
        "plt.ylim([0, 1])\n",
        "plt.legend(loc='lower right')\n",
        "\n",
        "test_loss, test_acc = model.evaluate(x_test,  y_test, verbose=2)\n",
        "print(f\"Test accuracy: {test_acc}\")\n"
      ],
      "metadata": {
        "colab": {
          "base_uri": "https://localhost:8080/",
          "height": 491
        },
        "id": "NKR6ZjBz-qJF",
        "outputId": "874b66e3-1fa8-444b-bb68-ffc8e8148948"
      },
      "execution_count": 28,
      "outputs": [
        {
          "output_type": "stream",
          "name": "stdout",
          "text": [
            "313/313 - 1s - loss: 0.8897 - accuracy: 0.7099 - 632ms/epoch - 2ms/step\n",
            "Test accuracy: 0.7099000215530396\n"
          ]
        },
        {
          "output_type": "display_data",
          "data": {
            "text/plain": [
              "<Figure size 640x480 with 1 Axes>"
            ],
            "image/png": "[encoded data removed]"
          },
          "metadata": {}
        }
      ]
    },
    {
      "cell_type": "markdown",
      "metadata": {
        "id": "waeIibGSl9FY"
      },
      "source": [
        "---\n",
        "### Questions\n",
        "Answer the following questions in detail.\n",
        "\n",
        "1. What is a Convolutional Neural Network (CNN)? Describe its key components and how they differ from those in a fully connected neural network.\n",
        "2. Explain the purpose of the convolution operation in a CNN. How does the use of different filter sizes affect the feature maps?\n",
        "3. What is the purpose of a pooling layer in a CNN, and how does it contribute to the network’s performance?\n",
        "4. Why are activation functions important in CNNs? Compare the use of ReLU (Rectified Linear Unit) with other activation functions.\n",
        "5. Describe the process of training a CNN. What are some common challenges faced during training?\n",
        "6. What are some common evaluation metrics used to assess the performance of a CNN on a classification task?\n",
        "7. How does data augmentation help improve the performance of a CNN? Provide examples of common data augmentation techniques.\n"
      ]
    },
    {
      "cell_type": "markdown",
      "source": [
        "# Answers:\n",
        "\n",
        "1. What is a Convolutional Neural Network (CNN)?\n",
        "A Convolutional Neural Network (CNN) is a deep learning model primarily used for processing grid-like data such as images. Its key components include convolutional layers, pooling layers, fully connected layers, and activation functions. Unlike fully connected networks, CNNs maintain the spatial hierarchy between pixels through localized receptive fields and shared weights, making them highly efficient for image processing.\n",
        "\n",
        "2. Purpose of the Convolution Operation in a CNN\n",
        "The convolution operation in a CNN helps extract features from input data by applying filters that capture spatial hierarchies and features like edges and textures. The size of the filters affects the granularity of the features detected: smaller filters pick up fine details, while larger filters capture more general features.\n",
        "\n",
        "3. Purpose of a Pooling Layer in a CNN\n",
        "Pooling layers in a CNN reduce the spatial dimensions (height and width) of the input volume, which decreases the number of parameters and computation in the network. This helps not only in reducing overfitting but also in making the detection of features invariant to scale and orientation.\n",
        "\n",
        "4. Importance of Activation Functions in CNNs\n",
        "Activation functions introduce non-linearity into the network, enabling it to learn complex patterns. ReLU (Rectified Linear Unit) is commonly used because it helps in faster convergence and reduces the problem of vanishing gradients compared to traditional functions like sigmoid or tanh.\n",
        "\n",
        "5. Training a CNN\n",
        "Training a CNN involves forward propagation (passing data through the network), backpropagation (updating weights to minimize loss), and optimization (using algorithms to refine model parameters). Common challenges include overfitting and managing vanishing or exploding gradients.\n",
        "\n",
        "6. Common Evaluation Metrics\n",
        "In classification tasks, CNNs are often assessed using accuracy, precision, recall, F1-score, and the confusion matrix. These metrics evaluate how well the model categorizes images into the correct classes.\n",
        "\n",
        "7. Role of Data Augmentation\n",
        "Data augmentation involves artificially expanding the training dataset by creating modified versions of images through techniques like rotation, scaling, cropping, and flipping. This enhances the diversity of training examples, helping the model generalize better and reduce overfitting."
      ],
      "metadata": {
        "id": "HNSy_Hyg_0yf"
      }
    },
    {
      "cell_type": "markdown",
      "metadata": {
        "id": "jLbue0pql9FY"
      },
      "source": [
        "---\n",
        "### Submission\n",
        "Submit a link to your completed Jupyter Notebook (e.g., on GitHub (private) or Google Colab) with all the cells executed, and answers to the assessment questions included at the end of the notebook."
      ]
    }
  ],
  "metadata": {
    "language_info": {
      "name": "python"
    },
    "colab": {
      "provenance": [],
      "gpuType": "T4"
    },
    "kernelspec": {
      "name": "python3",
      "display_name": "Python 3"
    },
    "accelerator": "GPU"
  },
  "nbformat": 4,
  "nbformat_minor": 0
}