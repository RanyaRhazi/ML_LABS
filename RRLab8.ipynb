{
  "cells": [
    {
      "cell_type": "markdown",
      "metadata": {
        "id": "Ykx1e8pmeSDi"
      },
      "source": [
        "# Lab 8 - PyTorch\n",
        "\n",
        "Welcome to this week's lab on PyTorch! In this lab, you are going to explore PyTorch, a popular open-source library widely used for applications such as computer vision and natural language processing. PyTorch is known for its ease of use, efficiency, and dynamic computational graph."
      ]
    },
    {
      "cell_type": "markdown",
      "metadata": {
        "id": "2murPRfWeSDn"
      },
      "source": [
        "## Part 1: Getting Started with PyTorch\n",
        "First, ensure you have PyTorch installed in your environment. You can either use a virtual environment or docker. Check out the PyTorch's installation guide: https://pytorch.org/get-started/locally/"
      ]
    },
    {
      "cell_type": "markdown",
      "metadata": {
        "id": "VHsy-A16eSDo"
      },
      "source": [
        "### Basic Concepts\n",
        "#### Tensors\n",
        "Tensors are the fundamental unit of data in PyTorch, similar to NumPy arrays but with GPU acceleration."
      ]
    },
    {
      "cell_type": "code",
      "execution_count": 1,
      "metadata": {
        "colab": {
          "base_uri": "https://localhost:8080/"
        },
        "id": "yR79JJsReSDp",
        "outputId": "6f80e5db-ba92-4006-ee4a-dc1cc32d769c"
      },
      "outputs": [
        {
          "name": "stdout",
          "output_type": "stream",
          "text": [
            "tensor([[1, 2],\n",
            "        [3, 4]])\n"
          ]
        }
      ],
      "source": [
        "import torch\n",
        "\n",
        "# Create a tensor\n",
        "tensor = torch.tensor([[1, 2], [3, 4]])\n",
        "print(tensor)"
      ]
    },
    {
      "cell_type": "markdown",
      "metadata": {
        "id": "LE3Wf6uheSDr"
      },
      "source": [
        "#### Operations\n",
        "Operations in PyTorch allow you to perform mathematical computations on tensors."
      ]
    },
    {
      "cell_type": "code",
      "execution_count": 2,
      "metadata": {
        "colab": {
          "base_uri": "https://localhost:8080/"
        },
        "id": "EIbCqHHYeSDs",
        "outputId": "b8dc30b3-88fa-49cf-8246-c41b44036014"
      },
      "outputs": [
        {
          "name": "stdout",
          "output_type": "stream",
          "text": [
            "tensor([[6, 7],\n",
            "        [8, 9]])\n",
            "tensor([[2, 4],\n",
            "        [6, 8]])\n"
          ]
        }
      ],
      "source": [
        "# Addition\n",
        "tensor_add = tensor + 5\n",
        "print(tensor_add)\n",
        "\n",
        "# Multiplication\n",
        "tensor_mul = tensor * 2\n",
        "print(tensor_mul)"
      ]
    },
    {
      "cell_type": "markdown",
      "metadata": {
        "id": "AhNKt6Z3eSDs"
      },
      "source": [
        "#### Autograd\n",
        "PyTorch's automatic differentiation engine, `torch.autograd`, is one of its most powerful features, enabling the automatic computation of gradients—essential for backpropagation in neural networks."
      ]
    },
    {
      "cell_type": "code",
      "execution_count": 3,
      "metadata": {
        "colab": {
          "base_uri": "https://localhost:8080/"
        },
        "id": "PhxglllUeSDt",
        "outputId": "2c96543a-76ef-4917-ae6c-0ab3f5dec5c9"
      },
      "outputs": [
        {
          "name": "stdout",
          "output_type": "stream",
          "text": [
            "tensor([[4.5000, 4.5000],\n",
            "        [4.5000, 4.5000]])\n"
          ]
        }
      ],
      "source": [
        "# Create tensors with requires_grad=True to track computation\n",
        "x = torch.ones(2, 2, requires_grad=True)\n",
        "y = x + 2\n",
        "z = y * y * 3\n",
        "out = z.mean()\n",
        "\n",
        "# Compute gradients\n",
        "out.backward()\n",
        "print(x.grad)"
      ]
    },
    {
      "cell_type": "markdown",
      "metadata": {
        "id": "VOiTHnlbeSDt"
      },
      "source": [
        "Find out more about the concept of gradient in the contecxt of backpropagation. Explain briefly what gradients are and how they are used in backpropagation."
      ]
    },
    {
      "cell_type": "markdown",
      "metadata": {
        "id": "AnG19a4hfBsP"
      },
      "source": [
        "A gradient is a vector indicating the direction and rate of increase of a function. It shows how much the output of a function changes if the inputs are modified slightly.\n",
        "\n",
        "Gradients in Backpropagation\n",
        "Backpropagation is a method for calculating the gradients of a loss function, which measures the error between a network's predictions and actual outcomes. Here’s how gradients are used:\n",
        "\n",
        "Forward Pass: Input data flows through the network to produce predictions.\n",
        "Loss Calculation: The predictions are compared to actual values using a loss function, quantifying the network's error.\n",
        "Backward Pass: Gradients of the loss function are computed starting from the output, moving backwards through the network, indicating how much and in what direction each parameter (like weights) should change to minimize the loss. This process adjusts the network's parameters to improve accuracy."
      ]
    },
    {
      "cell_type": "markdown",
      "metadata": {
        "id": "LbDyy8PxeSDu"
      },
      "source": [
        "#### Building a Simple Model\n"
      ]
    },
    {
      "cell_type": "code",
      "execution_count": 4,
      "metadata": {
        "id": "AtpqdRdQeSDu"
      },
      "outputs": [],
      "source": [
        "# Define a linear model\n",
        "model = torch.nn.Linear(1, 1)\n",
        "\n",
        "# Loss function and optimizer\n",
        "criterion = torch.nn.MSELoss()\n",
        "optimizer = torch.optim.SGD(model.parameters(), lr=0.01)"
      ]
    },
    {
      "cell_type": "markdown",
      "metadata": {
        "id": "paeIxvKReSDv"
      },
      "source": [
        "Check out PyTorch documentation and explain what are the inputs we provided in `torch.nn.Linear`."
      ]
    },
    {
      "cell_type": "markdown",
      "metadata": {
        "id": "aPhQms95gJE0"
      },
      "source": [
        "In PyTorch, the torch.nn.Linear module is used to create a linear transformation layer for a neural network. The primary inputs required to configure this layer include:\n",
        "\n",
        "in_features: The size of each input sample, or the number of expected features in the input x.\n",
        "out_features: The size of each output sample, or the number of features in the output.\n",
        "bias (optional): A boolean that indicates whether a bias vector should be added to the output. By default, it is set to True, meaning that the bias will be added.\n",
        "Additionally, you can specify the data type (dtype) and the device (device) on which the computations should be performed, although these are not mandatory for basic setups."
      ]
    },
    {
      "cell_type": "markdown",
      "metadata": {
        "id": "PvNlqwv1eSDv"
      },
      "source": [
        "## Part 2: Implement a Multi-Layer Neural Network with PyTorch\n",
        "\n",
        "Let's build a multi-layer neural network to classify points into two categories based on their location in a 2D space. This is a step up in complexity and will help illustrate the power of deep neural networks."
      ]
    },
    {
      "cell_type": "markdown",
      "metadata": {
        "id": "JaDI1cdMeSDw"
      },
      "source": [
        "### Task 1: Generate Synthetic Data\n",
        "First, we need to generate some data that isn't linearly separable, which will require the expressiveness of a multi-layer network to classify correctly."
      ]
    },
    {
      "cell_type": "code",
      "execution_count": 5,
      "metadata": {
        "id": "7SBXpjlmeSDw"
      },
      "outputs": [],
      "source": [
        "import torch\n",
        "import numpy as np\n",
        "\n",
        "# Generating a spiral dataset\n",
        "N = 100  # number of points per class\n",
        "D = 2  # dimensionality\n",
        "K = 2  # number of classes\n",
        "X = np.zeros((N*K, D))  # data matrix (each row = single example)\n",
        "y = np.zeros(N*K, dtype='uint8')  # class labels\n",
        "\n",
        "for j in range(K):\n",
        "  ix = range(N*j, N*(j+1))\n",
        "  r = np.linspace(0.0, 1, N)  # radius\n",
        "  t = np.linspace(j*4, (j+1)*4, N) + np.random.randn(N)*0.2  # theta\n",
        "  X[ix] = np.c_[r*np.sin(t), r*np.cos(t)]\n",
        "  y[ix] = j\n",
        "\n",
        "X = torch.from_numpy(X).float()\n",
        "y = torch.from_numpy(y).long()"
      ]
    },
    {
      "cell_type": "markdown",
      "metadata": {
        "id": "rRVzDeI6eSDw"
      },
      "source": [
        "### Task 2: Define the Model\n",
        "You need to define a model with two hidden layers. Each hidden layer will have a `ReLU` activation function for non-linearity. Use `Cross Entropy` as the loss function and use `Adam` as the optimizer.\n",
        "    "
      ]
    },
    {
      "cell_type": "code",
      "execution_count": 10,
      "metadata": {
        "id": "PDtLkyxLeSDx"
      },
      "outputs": [],
      "source": [
        "# Define a simple multi-layer network\n",
        "model = torch.nn.Sequential(\n",
        "    torch.nn.Linear(2, 100),\n",
        "    torch.nn.ReLU(),\n",
        "    torch.nn.Linear(100, 50),\n",
        "    torch.nn.ReLU(),\n",
        "    torch.nn.Linear(50, 2)\n",
        ")\n",
        "\n",
        "# Loss and optimizer\n",
        "criterion = torch.nn.CrossEntropyLoss()  # CrossEntropyLoss for classification problems\n",
        "optimizer = torch.optim.Adam(model.parameters(), lr=0.01)\n"
      ]
    },
    {
      "cell_type": "markdown",
      "metadata": {
        "id": "XizqiatdeSDx"
      },
      "source": [
        "### Task 3: Train the Model\n",
        "With our data and model defined, let's train the network for `1000` epochs!"
      ]
    },
    {
      "cell_type": "code",
      "execution_count": 11,
      "metadata": {
        "colab": {
          "base_uri": "https://localhost:8080/"
        },
        "id": "urU8m67qeSDy",
        "outputId": "23328411-0a50-4f9d-cc2f-dfe2b96bb14d"
      },
      "outputs": [
        {
          "name": "stdout",
          "output_type": "stream",
          "text": [
            "Epoch 0: loss = 0.7001193165779114\n",
            "Epoch 100: loss = 0.014769485220313072\n",
            "Epoch 200: loss = 0.009756519459187984\n",
            "Epoch 300: loss = 0.008285930380225182\n",
            "Epoch 400: loss = 0.007711559534072876\n",
            "Epoch 500: loss = 0.0074038817547261715\n",
            "Epoch 600: loss = 0.007273428607732058\n",
            "Epoch 700: loss = 0.007151894737035036\n",
            "Epoch 800: loss = 0.007301436737179756\n",
            "Epoch 900: loss = 0.007186385337263346\n"
          ]
        }
      ],
      "source": [
        "# Training loop\n",
        "for epoch in range(1000):\n",
        "    # Forward pass: Compute predicted y\n",
        "    y_pred = model(X)\n",
        "\n",
        "    # Compute loss\n",
        "    loss = criterion(y_pred, y)\n",
        "\n",
        "    # Zero gradients, backward pass, and update\n",
        "    optimizer.zero_grad()\n",
        "    loss.backward()\n",
        "    optimizer.step()\n",
        "\n",
        "    if epoch % 100 == 0:\n",
        "        print(f'Epoch {epoch}: loss = {loss.item()}')\n"
      ]
    },
    {
      "cell_type": "markdown",
      "metadata": {
        "id": "XXfS6kKReSDy"
      },
      "source": [
        "### Task 4: Evaluate the Model\n",
        "To evaluate our model, we will visualize how well it separates the classes in our 2D space."
      ]
    },
    {
      "cell_type": "code",
      "execution_count": 12,
      "metadata": {
        "colab": {
          "base_uri": "https://localhost:8080/",
          "height": 452
        },
        "id": "3gkNaJDKeSDy",
        "outputId": "13c81b19-6e4c-48a2-d575-2cf6e5bbbda1"
      },
      "outputs": [
        {
          "data": {
            "image/png": "[encoded data removed]",
            "text/plain": [
              "<Figure size 640x480 with 1 Axes>"
            ]
          },
          "metadata": {},
          "output_type": "display_data"
        }
      ],
      "source": [
        "import matplotlib.pyplot as plt\n",
        "\n",
        "def plot_decision_boundary(pred_func):\n",
        "    # Set min and max values and give it some padding\n",
        "    x_min, x_max = X[:, 0].min() - .5, X[:, 0].max() + .5\n",
        "    y_min, y_max = X[:, 1].min() - .5, X[:, 1].max() + .5\n",
        "    h = 0.01\n",
        "\n",
        "    # Generate a grid of points with distance h between them\n",
        "    xx, yy = np.meshgrid(np.arange(x_min, x_max, h), np.arange(y_min, y_max, h))\n",
        "\n",
        "    # Predict the function value for the whole grid\n",
        "    Z = pred_func(np.c_[xx.ravel(), yy.ravel()])\n",
        "    Z = Z.reshape(xx.shape)\n",
        "\n",
        "    # Plot\n",
        "    plt.contourf(xx, yy, Z, alpha=0.8)\n",
        "    plt.scatter(X[:, 0], X[:, 1], c=y, s=40, edgecolor='k')\n",
        "    plt.xlim(xx.min(), xx.max())\n",
        "    plt.ylim(yy.min(), yy.max())\n",
        "\n",
        "def predict(X):\n",
        "    X = torch.from_numpy(X).float()\n",
        "    y_pred = model(X)\n",
        "    return np.argmax(y_pred.data.numpy(), axis=1)\n",
        "\n",
        "# Plot the decision boundary\n",
        "plot_decision_boundary(lambda x: predict(x))\n",
        "plt.title(\"Decision Boundary\")\n",
        "plt.show()\n"
      ]
    },
    {
      "cell_type": "markdown",
      "metadata": {
        "id": "1-gxtSR7eSDz"
      },
      "source": [
        "## Submission\n",
        "Submit a link to your completed Jupyter Notebook file hosted on your private GitHub repository through the submission link in Blackboard."
      ]
    }
  ],
  "metadata": {
    "colab": {
      "provenance": []
    },
    "kernelspec": {
      "display_name": "base",
      "language": "python",
      "name": "python3"
    },
    "language_info": {
      "name": "python",
      "version": "3.9.18"
    }
  },
  "nbformat": 4,
  "nbformat_minor": 0
}
