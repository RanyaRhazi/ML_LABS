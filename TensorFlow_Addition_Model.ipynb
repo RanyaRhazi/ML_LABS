{
 "cells": [
  {
   "cell_type": "markdown",
   "metadata": {},
   "source": [
    "# Part 1: Getting Started with Tensorflow"
   ]
  },
  {
   "cell_type": "markdown",
   "metadata": {},
   "source": [
    "1. Dense Layer: The Dense layer in Keras is a fundamental part of neural networks, connecting every neuron from the previous layer to each neuron in the current layer. It applies a linear operation followed by an activation function to produce output.\n",
    "\n",
    "2. model.summary(): This method provides a concise overview of the model's architecture, including the types of layers, output shapes, and parameter counts.\n",
    "\n",
    "3. model.compile(): Prepares the model for training by specifying optimizer, loss function, and optional metrics.\n",
    "\n",
    "4. Optimizer: Algorithm used to update model weights during training to minimize the loss function.\n",
    "\n",
    "5. Loss: Measure of the discrepancy between predicted and actual outputs, guiding the training process to improve model performance."
   ]
  },
  {
   "cell_type": "markdown",
   "metadata": {},
   "source": [
    "# Part 2: Implement a Simple TesnforFlow Example"
   ]
  },
  {
   "cell_type": "markdown",
   "metadata": {},
   "source": [
    "# Task 1: Generate Data"
   ]
  },
  {
   "cell_type": "code",
   "execution_count": 3,
   "metadata": {},
   "outputs": [
    {
     "name": "stderr",
     "output_type": "stream",
     "text": [
      "2024-04-08 22:46:52.794478: I tensorflow/core/platform/cpu_feature_guard.cc:193] This TensorFlow binary is optimized with oneAPI Deep Neural Network Library (oneDNN) to use the following CPU instructions in performance-critical operations:  SSE4.1 SSE4.2\n",
      "To enable them in other operations, rebuild TensorFlow with the appropriate compiler flags.\n"
     ]
    },
    {
     "name": "stdout",
     "output_type": "stream",
     "text": [
      "[[0.21484135 0.55235182]\n",
      " [0.96750115 0.63563551]\n",
      " [0.26732848 0.12423236]\n",
      " [0.3053782  0.09739213]\n",
      " [0.82856194 0.16807513]] [[0.76719317]\n",
      " [1.60313666]\n",
      " [0.39156085]\n",
      " [0.40277033]\n",
      " [0.99663706]]\n"
     ]
    }
   ],
   "source": [
    "import numpy as np\n",
    "import tensorflow as tf\n",
    "\n",
    "# Generate random data\n",
    "inputs = np.random.random((1000, 2))\n",
    "sums = np.sum(inputs, axis=1, keepdims=True)\n",
    "\n",
    "print(inputs[:5], sums[:5])"
   ]
  },
  {
   "cell_type": "markdown",
   "metadata": {},
   "source": [
    "## Task 2: Build a Model"
   ]
  },
  {
   "cell_type": "code",
   "execution_count": 4,
   "metadata": {},
   "outputs": [
    {
     "name": "stderr",
     "output_type": "stream",
     "text": [
      "2024-04-08 22:48:06.114228: I tensorflow/core/platform/cpu_feature_guard.cc:193] This TensorFlow binary is optimized with oneAPI Deep Neural Network Library (oneDNN) to use the following CPU instructions in performance-critical operations:  SSE4.1 SSE4.2\n",
      "To enable them in other operations, rebuild TensorFlow with the appropriate compiler flags.\n"
     ]
    }
   ],
   "source": [
    "# Define the model\n",
    "model = tf.keras.Sequential([\n",
    "    tf.keras.layers.Dense(64, activation='relu'),\n",
    "    tf.keras.layers.Dense(1)\n",
    "])\n",
    "\n",
    "# Compile the model\n",
    "model.compile(optimizer='adam', loss='mean_squared_error')"
   ]
  },
  {
   "cell_type": "markdown",
   "metadata": {},
   "source": [
    "## Task 3: Train the Model"
   ]
  },
  {
   "cell_type": "code",
   "execution_count": 5,
   "metadata": {},
   "outputs": [
    {
     "name": "stdout",
     "output_type": "stream",
     "text": [
      "Epoch 1/10\n",
      "32/32 [==============================] - 0s 817us/step - loss: 1.0315\n",
      "Epoch 2/10\n",
      "32/32 [==============================] - 0s 709us/step - loss: 0.4005\n",
      "Epoch 3/10\n",
      "32/32 [==============================] - 0s 693us/step - loss: 0.0851\n",
      "Epoch 4/10\n",
      "32/32 [==============================] - 0s 666us/step - loss: 0.0384\n",
      "Epoch 5/10\n",
      "32/32 [==============================] - 0s 825us/step - loss: 0.0342\n",
      "Epoch 6/10\n",
      "32/32 [==============================] - 0s 701us/step - loss: 0.0306\n",
      "Epoch 7/10\n",
      "32/32 [==============================] - 0s 798us/step - loss: 0.0271\n",
      "Epoch 8/10\n",
      "32/32 [==============================] - 0s 689us/step - loss: 0.0238\n",
      "Epoch 9/10\n",
      "32/32 [==============================] - 0s 773us/step - loss: 0.0206\n",
      "Epoch 10/10\n",
      "32/32 [==============================] - 0s 617us/step - loss: 0.0175\n"
     ]
    },
    {
     "data": {
      "text/plain": [
       "<keras.callbacks.History at 0x7f887056e310>"
      ]
     },
     "execution_count": 5,
     "metadata": {},
     "output_type": "execute_result"
    }
   ],
   "source": [
    "# Train the model\n",
    "model.fit(inputs, sums, epochs=10, batch_size=32)"
   ]
  },
  {
   "cell_type": "markdown",
   "metadata": {},
   "source": [
    "## Task 4: Test the Model"
   ]
  },
  {
   "cell_type": "code",
   "execution_count": 6,
   "metadata": {},
   "outputs": [
    {
     "name": "stdout",
     "output_type": "stream",
     "text": [
      "1/1 [==============================] - 0s 102ms/step\n",
      "[[2.419909 ]\n",
      " [6.4443665]]\n"
     ]
    }
   ],
   "source": [
    "# Test data\n",
    "test_data = np.array([[1, 2], [4, 5]])\n",
    "\n",
    "# Prediction\n",
    "predictions = model.predict(test_data)\n",
    "\n",
    "# Show Predictions\n",
    "print(predictions)"
   ]
  },
  {
   "cell_type": "markdown",
   "metadata": {},
   "source": [
    "In this code, we implemented a simple TensorFlow example where we trained a neural network model to learn to add two numbers. Here's a summary of what we did:\n",
    "\n",
    "Data Generation: We generated synthetic data consisting of 1000 samples, each containing two random numbers. We computed the sum of these numbers to serve as our target output.\n",
    "\n",
    "Model Definition: We defined a simple neural network model with two dense layers. The first layer had 64 neurons with a ReLU activation function, and the second layer had a single neuron without any activation function.\n",
    "\n",
    "Model Compilation: We compiled the model using the Adam optimizer and mean squared error loss function, as per the task requirements.\n",
    "\n",
    "Model Training: We trained the model on the generated data for 10 epochs with a batch size of 32. During training, we observed a decreasing trend in the loss, indicating that the model was learning to predict the sums accurately.\n",
    "\n",
    "Model Testing: We tested the trained model with some new data consisting of pairs of numbers to be summed. The model provided predictions for the sums of these pairs.\n",
    "\n",
    "Results Interpretation:\n",
    "\n",
    "The model showed a decreasing loss trend during training, indicating that it was learning the task effectively.\n",
    "When tested with new data, the model provided reasonably accurate predictions for the sums of pairs of numbers. For example, for the test data [[1, 2], [4, 5]], the model predicted sums close to the actual sums (2.419909 and 6.4443665 respectively).\n",
    "In conclusion, we successfully trained a neural network model to learn the addition of two numbers. The model demonstrated good performance on both the training and test data, indicating its ability to generalize to new input pairs and accurately predict their sums."
   ]
  }
 ],
 "metadata": {
  "kernelspec": {
   "display_name": "base",
   "language": "python",
   "name": "python3"
  },
  "language_info": {
   "codemirror_mode": {
    "name": "ipython",
    "version": 3
   },
   "file_extension": ".py",
   "mimetype": "text/x-python",
   "name": "python",
   "nbconvert_exporter": "python",
   "pygments_lexer": "ipython3",
   "version": "3.9.18"
  }
 },
 "nbformat": 4,
 "nbformat_minor": 2
}
