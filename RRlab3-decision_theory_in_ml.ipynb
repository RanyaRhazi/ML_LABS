{
  "metadata": {
    "kernelspec": {
      "name": "python",
      "display_name": "Python (Pyodide)",
      "language": "python"
    },
    "language_info": {
      "name": "python",
      "version": "3.9.7"
    }
  },
  "nbformat_minor": 4,
  "nbformat": 4,
  "cells": [
    {
      "cell_type": "markdown",
      "source": "# Lab 3 - Decision Theory in Machine Learning\n\nWelcome to this week's lab on Decision Theory! This week, we are going to explore the basics of making decisions using simple and intuitive examples. Ads we have not yet started discussing neural networks, there is no need for deep knowledge in machine learning or neural networks here. We are focusing on the core principles that underlie decision-making in computational systems.\n\n## Objectives\n\n1. Understand the fundamentals of Decision Theory.\n2. Apply Decision Theory to solve simple problems.\n3. Develop the skills to implement basic decision-making systems.",
      "metadata": {}
    },
    {
      "cell_type": "markdown",
      "source": "## Part 1: Choosing a Vacation Destination\n\nIn this example, we will decide on a vacation destination based on various factors like cost, distance, and activities.",
      "metadata": {}
    },
    {
      "cell_type": "markdown",
      "source": "### Step 1: Define the Problem\n\nLet's define the problem:\n- We have 3 vacation destinations: Beach, Mountain, and City.\n- Each destination is evaluated based on three criteria: cost (low, medium, high), distance (near, far), and activities (few, many).",
      "metadata": {}
    },
    {
      "cell_type": "markdown",
      "source": "### Step 2: Create the Decision Matrix\n\nOne approach to tackle such problems is to create a Decision Matrix! A Dcision Matrix for this problem can be created as below:",
      "metadata": {}
    },
    {
      "cell_type": "code",
      "source": "import pandas as pd\n\n# Define the decision matrix\ndata = {\n    'Cost': ['Low', 'High', 'Medium'],\n    'Distance': ['Near', 'Far', 'Near'],\n    'Activities': ['Many', 'Few', 'Many']\n}\n\ndestinations = pd.DataFrame(data, index=['Beach', 'Mountain', 'City'])",
      "metadata": {
        "trusted": true
      },
      "outputs": [],
      "execution_count": null
    },
    {
      "cell_type": "markdown",
      "source": "### Step 3: Apply Decision Rules\n\nWe can create a simple scoring system for each criterion (e.g., Low Cost = 3 points, High Cost = 1 point). Then we can calculate the total score for each destination.",
      "metadata": {}
    },
    {
      "cell_type": "code",
      "source": "# Decision rules as functions\ndef cost_score(cost):\n    if cost == 'Low':\n        return 3\n    elif cost == 'Medium':\n        return 2\n    else:\n        return 1\n\ndef distance_score(distance):\n    return 3 if distance == 'Near' else 1\n\ndef activities_score(activities):\n    return 3 if activities == 'Many' else 1",
      "metadata": {
        "trusted": true
      },
      "outputs": [],
      "execution_count": null
    },
    {
      "cell_type": "markdown",
      "source": "### Step 4: Make a Decision\n\nNow, we are ready to make a decision on which destination to choose based on the highest score.",
      "metadata": {}
    },
    {
      "cell_type": "code",
      "source": "# Calculate scores\ndestinations['Total Score'] = destinations.apply(lambda x: cost_score(x['Cost']) + distance_score(x['Distance']) + activities_score(x['Activities']), axis=1)\n\n# Display the result\nprint(destinations)\n",
      "metadata": {
        "trusted": true
      },
      "outputs": [],
      "execution_count": null
    },
    {
      "cell_type": "markdown",
      "source": "## Part 2: Choosing a Smartphone\n\nYour task is to choose a smartphone based on different criteria like price, battery life, and camera quality.\n\nTasks\nDefine your criteria for selecting a smartphone.\nSet up a decision matrix for different smartphone options.\nApply decision rules to score each smartphone.\nMake a decision based on the highest score.\nGuidelines\nThink about the factors that are most important to you in a smartphone.\nBe creative in defining your scoring system.",
      "metadata": {}
    },
    {
      "cell_type": "markdown",
      "source": "### Task 1: Criteria\nDefine your criteria for selecting a smartphone.",
      "metadata": {}
    },
    {
      "cell_type": "code",
      "source": "# Your code and/or explanation goes here\nWe have 3 phone brands: Huwawei, Apple, Samsung.\nEach phone is evaluated based on three criteria: price (low, medium, high), battery life (short, long), and camera quality (good, bad).",
      "metadata": {},
      "outputs": [],
      "execution_count": null
    },
    {
      "cell_type": "markdown",
      "source": "### Task 2: Decision Matrix\nSet up a decision matrix for different smartphone options.",
      "metadata": {}
    },
    {
      "cell_type": "code",
      "source": "# Your code goes here\nphone = {\n    'Price': ['Low', 'High', 'Medium'],\n    'Battery': ['Short', 'Long', 'Long'],\n    'Camera': ['Bad', 'Good', 'Good']\n}\n\nphones = pd.DataFrame(phone, index=['Huwawei', 'Apple', 'Samsung'])",
      "metadata": {
        "trusted": true
      },
      "outputs": [],
      "execution_count": null
    },
    {
      "cell_type": "markdown",
      "source": "### Task 3: Apply Decision Rules\nApply decision rules to score each smartphone.",
      "metadata": {}
    },
    {
      "cell_type": "code",
      "source": "# Your code goes here\ndef price_score(price):\n    if price == 'Low':\n        return 3\n    elif cost == 'Medium':\n        return 2\n    else:\n        return 1\n\ndef battery_score(battery):\n    return 3 if battery == 'Long' else 1\n\ndef camera_score(camera):\n    return 3 if camera == 'Good' else 1",
      "metadata": {
        "trusted": true
      },
      "outputs": [],
      "execution_count": null
    },
    {
      "cell_type": "markdown",
      "source": "### Task 4: Final Decision\nMake a decision based on the highest score.",
      "metadata": {}
    },
    {
      "cell_type": "code",
      "source": "# Your code goes here\nphones['Total Score'] = phones.apply(lambda x: cost_score(x['Price']) + distance_score(x['Battery']) + activities_score(x['Camera']), axis=1)\nprint(phones)",
      "metadata": {
        "trusted": true
      },
      "outputs": [],
      "execution_count": null
    },
    {
      "cell_type": "markdown",
      "source": "### Task 5: Evaluation and Reflection\nWrite your perspctive about Decision Theory. Could the given problem be solved using a different methodology? Explain your answer.",
      "metadata": {}
    },
    {
      "cell_type": "code",
      "source": "My perspective on decision theory is that it is very helpful when a decision should be made in \nuncertainty. Based on data, we analyze every option and try to predict the best desirable outcome.\nFor this specific problem, different methodologies could be taken to solve it. Maybe coafficients \ncould be assigned to each criteria depending on how important they are for the decision. This \ncould change the score results and therefore lead to a completely different outcome. ",
      "metadata": {
        "trusted": true
      },
      "outputs": [],
      "execution_count": null
    },
    {
      "cell_type": "markdown",
      "source": "## Submission\nSubmit a link to your completed Jupyter Notebook file hosted on your private GitHub repository through the submission link in Blackboard.",
      "metadata": {}
    }
  ]
}